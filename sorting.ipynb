{
  "nbformat": 4,
  "nbformat_minor": 0,
  "metadata": {
    "colab": {
      "name": "sorting.ipynb",
      "provenance": [],
      "authorship_tag": "ABX9TyPrlgj0znSTZuhp/Ld/mNjJ",
      "include_colab_link": true
    },
    "kernelspec": {
      "name": "python3",
      "display_name": "Python 3"
    },
    "language_info": {
      "name": "python"
    }
  },
  "cells": [
    {
      "cell_type": "markdown",
      "metadata": {
        "id": "view-in-github",
        "colab_type": "text"
      },
      "source": [
        "<a href=\"https://colab.research.google.com/github/approjecthub/Sorting-Practice/blob/main/sorting.ipynb\" target=\"_parent\"><img src=\"https://colab.research.google.com/assets/colab-badge.svg\" alt=\"Open In Colab\"/></a>"
      ]
    },
    {
      "cell_type": "markdown",
      "metadata": {
        "id": "3As0VjQMA2Wp"
      },
      "source": [
        "### insertion sort"
      ]
    },
    {
      "cell_type": "code",
      "metadata": {
        "colab": {
          "base_uri": "https://localhost:8080/"
        },
        "id": "Z3dIrzifAx_O",
        "outputId": "0c2d9bfd-825e-4ac3-cd12-65e0b6502a77"
      },
      "source": [
        "arr = [12, 11, 13, 5, 6 ]\n",
        "\n",
        "def insertionSort():\n",
        "  global arr\n",
        "  n = len(arr)\n",
        "  for i in range(1,n):\n",
        "    j = i-1\n",
        "    temp = arr[i]\n",
        "    while arr[j]>temp and j>=0:\n",
        "      arr[j+1] = arr[j]\n",
        "      j -= 1\n",
        "\n",
        "    if j!=i-1:\n",
        "      arr[j+1] = temp \n",
        "\n",
        "insertionSort()\n",
        "print(arr)\n",
        "\n"
      ],
      "execution_count": null,
      "outputs": [
        {
          "output_type": "stream",
          "text": [
            "[5, 6, 11, 12, 13]\n"
          ],
          "name": "stdout"
        }
      ]
    },
    {
      "cell_type": "markdown",
      "metadata": {
        "id": "KnHAzijtnyZX"
      },
      "source": [
        "### Quick sort"
      ]
    },
    {
      "cell_type": "code",
      "metadata": {
        "id": "t74rqARIDWPs",
        "colab": {
          "base_uri": "https://localhost:8080/"
        },
        "outputId": "9715df90-b33f-47b0-d8f1-1bcc73e5f212"
      },
      "source": [
        "arr = [12, 11, 13, 5, 6 ]\n",
        "\n",
        "def partition(arr, low, high):\n",
        "  pivot = arr[high]\n",
        "\n",
        "  i = low - 1\n",
        "  j = low\n",
        "\n",
        "  while j<=high - 1:\n",
        "    if arr[j]<pivot:\n",
        "      i += 1\n",
        "\n",
        "      arr[j], arr[i] = arr[i], arr[j]\n",
        "\n",
        "    j+=1\n",
        "\n",
        "    \n",
        "  i+=1\n",
        "  arr[high], arr[i] = arr[i], arr[high]\n",
        "  return i\n",
        "\n",
        "def quickSort(arr ,low, high):\n",
        "  if low<high:\n",
        "    par = partition(arr, low, high)\n",
        "    quickSort(arr, low, par - 1)\n",
        "    quickSort(arr, par+1, high)\n",
        "\n",
        "quickSort(arr, 0, len(arr)-1)\n",
        "print(arr)"
      ],
      "execution_count": 2,
      "outputs": [
        {
          "output_type": "stream",
          "text": [
            "[5, 6, 11, 12, 13]\n"
          ],
          "name": "stdout"
        }
      ]
    },
    {
      "cell_type": "markdown",
      "metadata": {
        "id": "_NrrRSNhmHM_"
      },
      "source": [
        "### Heap sort"
      ]
    },
    {
      "cell_type": "code",
      "metadata": {
        "id": "qOsN0l1V80Jy"
      },
      "source": [
        "#Heap insertion\n",
        "\n",
        "##max heap\n",
        "# arr = [30,20,15,5,10,12,6]\n",
        "\n",
        "def insert(arr, ele,n):\n",
        "  arr[n] = ele\n",
        "\n",
        "  j = n\n",
        "  while j>0:\n",
        "    if arr[j//2]<arr[j]:\n",
        "      arr[j], arr[j//2] = arr[j//2], arr[j]\n",
        "\n",
        "    j = j//2\n",
        "   \n",
        "# n = len(arr)\n",
        "# arr.append(-1)\n",
        "# insert(arr, 40,n)\n",
        "# print(arr)"
      ],
      "execution_count": 11,
      "outputs": []
    },
    {
      "cell_type": "code",
      "metadata": {
        "id": "P2a3k405nfjK"
      },
      "source": [
        "#Heap deletion\n",
        "\n",
        "# arr = [5,10,15]\n",
        "\n",
        "def delete(arr,n):\n",
        "  if n<=0:\n",
        "    return\n",
        "  j=0\n",
        "  arr[n-1], arr[j] = arr[j], arr[n-1]\n",
        "  lchild = (2*j)+1\n",
        "  rchild = (2*j)+2\n",
        "  while lchild<n-1:\n",
        "    \n",
        "    if arr[lchild]>= arr[rchild] or rchild>=n-1:\n",
        "      if arr[j]<arr[lchild]:\n",
        "        arr[j],arr[lchild] = arr[lchild],arr[j]\n",
        "      j = lchild\n",
        "    else:\n",
        "      if arr[j]<arr[rchild]:\n",
        "        arr[j],arr[rchild] = arr[rchild],arr[j]\n",
        "      j = rchild\n",
        "    lchild = (2*j)+1\n",
        "    rchild = (2*j)+2\n",
        "\n",
        "# n = len(arr)\n",
        "# delete(arr, n)\n",
        "# print(arr)\n",
        "\n"
      ],
      "execution_count": 29,
      "outputs": []
    },
    {
      "cell_type": "code",
      "metadata": {
        "colab": {
          "base_uri": "https://localhost:8080/"
        },
        "id": "q5VamnxCxFVV",
        "outputId": "5301b3f7-d4c6-49c2-eb1e-a7b5efe30a38"
      },
      "source": [
        "##heapsort\n",
        "\n",
        "arr = [15,15,15,15,16]\n",
        "\n",
        "def heapsort(arr):\n",
        "  n = len(arr)\n",
        "  for i in range(1,n):\n",
        "    insert(arr,arr[i],i)\n",
        "  \n",
        "  for j in range(n,0,-1):\n",
        "\n",
        "    delete(arr,j)\n",
        "\n",
        "heapsort(arr)\n",
        "print(arr)"
      ],
      "execution_count": 36,
      "outputs": [
        {
          "output_type": "stream",
          "text": [
            "[15, 15, 15, 15, 16]\n"
          ],
          "name": "stdout"
        }
      ]
    },
    {
      "cell_type": "markdown",
      "metadata": {
        "id": "wxNX4r0vJ7t4"
      },
      "source": [
        "### Merge sort"
      ]
    },
    {
      "cell_type": "code",
      "metadata": {
        "colab": {
          "base_uri": "https://localhost:8080/"
        },
        "id": "QnyfIfd-0EL4",
        "outputId": "d3645987-2ef2-4786-afbc-b4c37687df0f"
      },
      "source": [
        "arr = [12,11,10 ]\n",
        "\n",
        "def merge(arr, low, high,mid):\n",
        "  larr = [arr[i] for i in range(low, mid+1)]\n",
        "  rarr = [arr[i] for i in range( mid+1, high+1)]\n",
        "\n",
        "  m = len(larr)\n",
        "  n = len(rarr)\n",
        "\n",
        "  i = 0\n",
        "  j = 0\n",
        "\n",
        "  h = low\n",
        "  while i<m and j<n:\n",
        "    if larr[i]<rarr[j]:\n",
        "      arr[h] = larr[i]\n",
        "      h += 1\n",
        "      i += 1\n",
        "\n",
        "    else:\n",
        "      arr[h] = rarr[j]\n",
        "      h += 1\n",
        "      j += 1\n",
        "  while i<m:\n",
        "    \n",
        "    arr[h] = larr[i]\n",
        "    h += 1\n",
        "    i += 1\n",
        "  while j<n:\n",
        "   \n",
        "    \n",
        "    arr[h] = rarr[j]\n",
        "    h += 1\n",
        "    j += 1\n",
        "  \n",
        "def mergeSort(arr,i,j):\n",
        "  if i<j:\n",
        "    mid = (i+j)//2\n",
        "    mergeSort(arr, i, mid)\n",
        "    mergeSort(arr, mid+1, j)\n",
        "    merge(arr,i,j, mid)\n",
        "    \n",
        "\n",
        "mergeSort(arr, 0, len(arr)-1)\n",
        "print(arr)"
      ],
      "execution_count": 62,
      "outputs": [
        {
          "output_type": "stream",
          "text": [
            "[10, 11, 12]\n"
          ],
          "name": "stdout"
        }
      ]
    },
    {
      "cell_type": "code",
      "metadata": {
        "id": "l1qRWpDDVCOz"
      },
      "source": [
        ""
      ],
      "execution_count": null,
      "outputs": []
    }
  ]
}