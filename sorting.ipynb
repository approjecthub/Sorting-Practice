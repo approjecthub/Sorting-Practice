{
  "nbformat": 4,
  "nbformat_minor": 0,
  "metadata": {
    "colab": {
      "name": "sorting.ipynb",
      "provenance": [],
      "authorship_tag": "ABX9TyM8Y00UcMNCVTzq0e/YJKaE",
      "include_colab_link": true
    },
    "kernelspec": {
      "name": "python3",
      "display_name": "Python 3"
    },
    "language_info": {
      "name": "python"
    }
  },
  "cells": [
    {
      "cell_type": "markdown",
      "metadata": {
        "id": "view-in-github",
        "colab_type": "text"
      },
      "source": [
        "<a href=\"https://colab.research.google.com/github/approjecthub/Sorting-Practice/blob/main/sorting.ipynb\" target=\"_parent\"><img src=\"https://colab.research.google.com/assets/colab-badge.svg\" alt=\"Open In Colab\"/></a>"
      ]
    },
    {
      "cell_type": "markdown",
      "metadata": {
        "id": "3As0VjQMA2Wp"
      },
      "source": [
        "### insertion sort"
      ]
    },
    {
      "cell_type": "code",
      "metadata": {
        "colab": {
          "base_uri": "https://localhost:8080/"
        },
        "id": "Z3dIrzifAx_O",
        "outputId": "0c2d9bfd-825e-4ac3-cd12-65e0b6502a77"
      },
      "source": [
        "arr = [12, 11, 13, 5, 6 ]\n",
        "\n",
        "def insertionSort():\n",
        "  global arr\n",
        "  n = len(arr)\n",
        "  for i in range(1,n):\n",
        "    j = i-1\n",
        "    temp = arr[i]\n",
        "    while arr[j]>temp and j>=0:\n",
        "      arr[j+1] = arr[j]\n",
        "      j -= 1\n",
        "\n",
        "    if j!=i-1:\n",
        "      arr[j+1] = temp \n",
        "\n",
        "insertionSort()\n",
        "print(arr)\n",
        "\n"
      ],
      "execution_count": null,
      "outputs": [
        {
          "output_type": "stream",
          "text": [
            "[5, 6, 11, 12, 13]\n"
          ],
          "name": "stdout"
        }
      ]
    },
    {
      "cell_type": "markdown",
      "metadata": {
        "id": "KnHAzijtnyZX"
      },
      "source": [
        "### Quick sort"
      ]
    },
    {
      "cell_type": "code",
      "metadata": {
        "id": "t74rqARIDWPs",
        "colab": {
          "base_uri": "https://localhost:8080/"
        },
        "outputId": "9715df90-b33f-47b0-d8f1-1bcc73e5f212"
      },
      "source": [
        "arr = [12, 11, 13, 5, 6 ]\n",
        "\n",
        "def partition(arr, low, high):\n",
        "  pivot = arr[high]\n",
        "\n",
        "  i = low - 1\n",
        "  j = low\n",
        "\n",
        "  while j<=high - 1:\n",
        "    if arr[j]<pivot:\n",
        "      i += 1\n",
        "\n",
        "      arr[j], arr[i] = arr[i], arr[j]\n",
        "\n",
        "    j+=1\n",
        "\n",
        "    \n",
        "  i+=1\n",
        "  arr[high], arr[i] = arr[i], arr[high]\n",
        "  return i\n",
        "\n",
        "def quickSort(arr ,low, high):\n",
        "  if low<high:\n",
        "    par = partition(arr, low, high)\n",
        "    quickSort(arr, low, par - 1)\n",
        "    quickSort(arr, par+1, high)\n",
        "\n",
        "quickSort(arr, 0, len(arr)-1)\n",
        "print(arr)"
      ],
      "execution_count": 2,
      "outputs": [
        {
          "output_type": "stream",
          "text": [
            "[5, 6, 11, 12, 13]\n"
          ],
          "name": "stdout"
        }
      ]
    },
    {
      "cell_type": "code",
      "metadata": {
        "id": "qOsN0l1V80Jy"
      },
      "source": [
        ""
      ],
      "execution_count": null,
      "outputs": []
    }
  ]
}